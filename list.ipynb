{
 "cells": [
  {
   "cell_type": "code",
   "execution_count": 1,
   "id": "0ee47181",
   "metadata": {},
   "outputs": [
    {
     "name": "stdout",
     "output_type": "stream",
     "text": [
      "10 20 30\n",
      "[10, 20, 30]\n"
     ]
    }
   ],
   "source": [
    "# map function usage\n",
    "str1=list(map(int,input().split()))\n",
    "print(str1)"
   ]
  },
  {
   "cell_type": "code",
   "execution_count": 3,
   "id": "1a2548dd",
   "metadata": {},
   "outputs": [
    {
     "name": "stdout",
     "output_type": "stream",
     "text": [
      "3 7 9\n",
      "(3.0, 7.0, 9.0)\n"
     ]
    }
   ],
   "source": [
    "str2=tuple(map(float,input().split()))\n",
    "print(str2)"
   ]
  },
  {
   "cell_type": "code",
   "execution_count": 4,
   "id": "fc973d91",
   "metadata": {},
   "outputs": [
    {
     "name": "stdout",
     "output_type": "stream",
     "text": [
      "1 2 3 \n",
      "{'3', '1', '2'}\n"
     ]
    }
   ],
   "source": [
    "str3=set(map(str,input().split()))\n",
    "print(str3)"
   ]
  },
  {
   "cell_type": "code",
   "execution_count": 6,
   "id": "a7f5d09c",
   "metadata": {},
   "outputs": [
    {
     "name": "stdout",
     "output_type": "stream",
     "text": [
      "[1, 2, 3, 4, 5, 4, 5, 6, 7]\n",
      "[1, 2, 3, 4, 5, 4, 5, 6, 7, 45, 1, 2, 3, 4, 5, 4, 5, 6, 7, 45, 1, 2, 3, 4, 5, 4, 5, 6, 7, 45, 1, 2, 3, 4, 5, 4, 5, 6, 7, 45]\n"
     ]
    }
   ],
   "source": [
    "#list concatenation\n",
    "l1=[1,2,3,4,5]\n",
    "l2=[4,5,6,7]\n",
    "l3=l1+l2\n",
    "print(l3)\n",
    "l3.append(45)\n",
    "print(l3*4)\n",
    "\n",
    "\n"
   ]
  },
  {
   "cell_type": "markdown",
   "id": "9ae01e1d-0cd4-4f83-9384-faad3704c09c",
   "metadata": {},
   "source": [
    "# list methods\n",
    "append-it can be used to add the single element to existing list(l3.append(45))\n"
   ]
  },
  {
   "cell_type": "code",
   "execution_count": 7,
   "id": "81e5a214-2ea9-42f6-97e0-35619e845903",
   "metadata": {},
   "outputs": [
    {
     "name": "stdout",
     "output_type": "stream",
     "text": [
      "[1, 2, 3, 4, 200]\n"
     ]
    }
   ],
   "source": [
    "#append\n",
    "l1=[1,2,3,4]\n",
    "l1.append(200)\n",
    "print(l1)"
   ]
  },
  {
   "cell_type": "markdown",
   "id": "a1c572a1-0db8-4a8b-aff2-525135e87e7d",
   "metadata": {},
   "source": [
    "extend-it adds the iterable values to list"
   ]
  },
  {
   "cell_type": "code",
   "execution_count": 8,
   "id": "d53a4933-3465-49b4-8f81-1709cca094c4",
   "metadata": {},
   "outputs": [
    {
     "name": "stdout",
     "output_type": "stream",
     "text": [
      "[1, 2, 3, 4, 200, 400]\n"
     ]
    }
   ],
   "source": [
    "l=[1,2,3,4]\n",
    "l.extend([200,400])\n",
    "print(l)"
   ]
  },
  {
   "cell_type": "markdown",
   "id": "801fb086-6a85-42cd-8541-f0debac70746",
   "metadata": {},
   "source": [
    "insert-insert the values at particular index"
   ]
  },
  {
   "cell_type": "markdown",
   "id": "a680a0c2-0be4-4d3f-bfa5-2be2399310bb",
   "metadata": {},
   "source": [
    "l1=[1,2,3,4]\n",
    "l1.insert(2,34)\n",
    "print(l1)"
   ]
  },
  {
   "cell_type": "markdown",
   "id": "97423d01-ee27-4f17-a8d3-83229b8d30c7",
   "metadata": {},
   "source": [
    "remove-it is used to remove an element\n",
    "pop- it is used to remove the last element of a list or we need to give the position of particular element\n",
    "clear-removes the entire list and gives the empty list\n",
    "del-it is used to a particular element or deletes between range(del[2:5],del(0))"
   ]
  },
  {
   "cell_type": "code",
   "execution_count": 28,
   "id": "3687d092-78bc-425f-bf6f-7fdeb228ab9a",
   "metadata": {},
   "outputs": [
    {
     "name": "stdout",
     "output_type": "stream",
     "text": [
      "[1, 2, 34, 6]\n",
      "None\n"
     ]
    }
   ],
   "source": [
    "#remove method\n",
    "l1=[1,2,34,5, 6]\n",
    "a=l1.remove(5)\n",
    "print(l1)\n",
    "print(a)"
   ]
  },
  {
   "cell_type": "code",
   "execution_count": 29,
   "id": "8af80ab5-807a-41e0-90c1-2b64c4d560a4",
   "metadata": {},
   "outputs": [
    {
     "name": "stdout",
     "output_type": "stream",
     "text": [
      "[1, 2, 34]\n",
      "6\n"
     ]
    }
   ],
   "source": [
    "#pop method\n",
    "b=l1.pop()\n",
    "print(l1)\n",
    "print(b)"
   ]
  },
  {
   "cell_type": "code",
   "execution_count": 30,
   "id": "096e3355-f26f-4da4-ac33-8e13006b8cf7",
   "metadata": {},
   "outputs": [
    {
     "name": "stdout",
     "output_type": "stream",
     "text": [
      "[]\n"
     ]
    }
   ],
   "source": [
    "#clear method\n",
    "l1=[1,2,3,4,5]\n",
    "l1.clear()\n",
    "print(l1)"
   ]
  },
  {
   "cell_type": "code",
   "execution_count": 34,
   "id": "7dffdc35-55ae-4d29-b98d-77e266104ac1",
   "metadata": {},
   "outputs": [
    {
     "name": "stdout",
     "output_type": "stream",
     "text": [
      "[2, 3, 3, 5, 5, 6, 9, 0]\n"
     ]
    }
   ],
   "source": [
    "#delete method\n",
    "l1=[1,2,3,3,5,5,6,9,0]\n",
    "del l1[0]\n",
    "print(l1)"
   ]
  },
  {
   "cell_type": "code",
   "execution_count": 35,
   "id": "818cdf80-c940-467c-adaf-b31ce7e07449",
   "metadata": {},
   "outputs": [
    {
     "name": "stdout",
     "output_type": "stream",
     "text": [
      "[2, 3, 5, 5, 6, 9, 0]\n"
     ]
    }
   ],
   "source": [
    "del l1[2:3]\n",
    "print(l1)"
   ]
  },
  {
   "cell_type": "code",
   "execution_count": 39,
   "id": "6d17f491-8127-4c96-9e9a-1e211b030add",
   "metadata": {},
   "outputs": [
    {
     "name": "stdout",
     "output_type": "stream",
     "text": [
      "{0, 2, 3, 5, 6, 9}\n"
     ]
    }
   ],
   "source": [
    "l3=l1\n",
    "l4=set(l3)\n",
    "print(l4)"
   ]
  },
  {
   "cell_type": "markdown",
   "id": "ed32ab10-815c-444a-b7cf-404fa12d9ad2",
   "metadata": {},
   "source": [
    "-count:count any particular element in the list\n",
    "-len:gives the length of the list\n",
    "-min:gives the minimum element in the list\n",
    "-max:gives the maximum element in the list\n",
    "-sum:gives the sum of elements in the list"
   ]
  },
  {
   "cell_type": "code",
   "execution_count": 45,
   "id": "9da794ec-bffd-48a8-abd7-4bf83897d9f8",
   "metadata": {},
   "outputs": [
    {
     "name": "stdout",
     "output_type": "stream",
     "text": [
      "1\n"
     ]
    }
   ],
   "source": [
    "#min function\n",
    "l1=[1,2,3,4,4,5,6]\n",
    "print(min(l1))"
   ]
  },
  {
   "cell_type": "code",
   "execution_count": 42,
   "id": "49ca5ba2-3fc9-452d-844f-1d1f3bd1f3cb",
   "metadata": {},
   "outputs": [
    {
     "data": {
      "text/plain": [
       "2"
      ]
     },
     "execution_count": 42,
     "metadata": {},
     "output_type": "execute_result"
    }
   ],
   "source": [
    "#count function\n",
    "l1=[1,2,3,4,4,5,6]\n",
    "l1.count(4)"
   ]
  },
  {
   "cell_type": "code",
   "execution_count": 63,
   "id": "34eaeb43-9f94-4be3-a7c8-9ffc6ed3e2bc",
   "metadata": {},
   "outputs": [
    {
     "data": {
      "text/plain": [
       "0"
      ]
     },
     "execution_count": 63,
     "metadata": {},
     "output_type": "execute_result"
    }
   ],
   "source": [
    "l1=[1,2,3,4,4,5,6]\n",
    "l1.count(600)"
   ]
  },
  {
   "cell_type": "code",
   "execution_count": 46,
   "id": "55748884-ab1b-4fb6-bac0-aefc1b764b94",
   "metadata": {},
   "outputs": [
    {
     "name": "stdout",
     "output_type": "stream",
     "text": [
      "6\n"
     ]
    }
   ],
   "source": [
    "#max function\n",
    "l1=[1,2,3,4,4,5,6]\n",
    "print(max(l1))"
   ]
  },
  {
   "cell_type": "code",
   "execution_count": 47,
   "id": "87f9c994-8cbc-47fe-be6e-b66c558f2447",
   "metadata": {},
   "outputs": [
    {
     "name": "stdout",
     "output_type": "stream",
     "text": [
      "25\n"
     ]
    }
   ],
   "source": [
    "#sum function\n",
    "print(sum(l1))"
   ]
  },
  {
   "cell_type": "code",
   "execution_count": 48,
   "id": "d93d1549-9a33-4055-ae63-837c6cf7bbc1",
   "metadata": {},
   "outputs": [
    {
     "name": "stdout",
     "output_type": "stream",
     "text": [
      "7\n"
     ]
    }
   ],
   "source": [
    "#len function\n",
    "print(len(l1))"
   ]
  },
  {
   "cell_type": "markdown",
   "id": "4cc3d147-32ca-402f-ad99-2fc1fbb40e9e",
   "metadata": {},
   "source": [
    "##sort and reverse\n",
    "sort-sort can be used to give the list of elements in order\n",
    "reverse-reverse the list"
   ]
  },
  {
   "cell_type": "code",
   "execution_count": 50,
   "id": "cfdba7bb-70b0-465b-b0a2-8f913c828ea0",
   "metadata": {},
   "outputs": [
    {
     "name": "stdout",
     "output_type": "stream",
     "text": [
      "[2, 3, 4, 5, 7, 51]\n"
     ]
    }
   ],
   "source": [
    "#sort()-ascending order\n",
    "l1=[2,3,4,51,5,7]\n",
    "l1.sort()\n",
    "print(l1)"
   ]
  },
  {
   "cell_type": "code",
   "execution_count": 56,
   "id": "49820b45-819d-4372-b36e-6f54fd55d4c6",
   "metadata": {},
   "outputs": [
    {
     "name": "stdout",
     "output_type": "stream",
     "text": [
      "[8, 8, 67, 5, 1, 5, 3, 2]\n"
     ]
    }
   ],
   "source": [
    "#reverse()\n",
    "l2=[2,3,5,1,5,67,8,8]\n",
    "l2.reverse()\n",
    "print(l2)"
   ]
  },
  {
   "cell_type": "code",
   "execution_count": 54,
   "id": "32a4d861-6c64-48ef-adb5-ba1d97dd42ec",
   "metadata": {},
   "outputs": [
    {
     "name": "stdout",
     "output_type": "stream",
     "text": [
      "[51, 7, 5, 4, 3, 2]\n"
     ]
    }
   ],
   "source": [
    "#sort()-descending order\n",
    "l1=[2,3,4,51,5,7]\n",
    "l1.sort(reverse=True)\n",
    "print(l1)"
   ]
  },
  {
   "cell_type": "code",
   "execution_count": 58,
   "id": "cd0e61c6-aed3-4394-9136-cb1128e284e1",
   "metadata": {},
   "outputs": [
    {
     "name": "stdout",
     "output_type": "stream",
     "text": [
      "[1, 1, 2, 3, 4, 6, 6, 34]\n"
     ]
    }
   ],
   "source": [
    "#sorted- creates the new list and sort them(sorted(list_name))\n",
    "l1=[1,2,3,34,4,6,6,1]\n",
    "new_list=sorted(l1)\n",
    "print(new_list)"
   ]
  },
  {
   "cell_type": "code",
   "execution_count": 59,
   "id": "d1ffddbd-0117-4566-9f85-1d04f5e96e71",
   "metadata": {},
   "outputs": [
    {
     "name": "stdout",
     "output_type": "stream",
     "text": [
      "[1, 1, 2, 3, 4, 6, 6, 34]\n"
     ]
    }
   ],
   "source": [
    "l1=[1,2,3,34,4,6,6,1]\n",
    "print(sorted(l1))"
   ]
  },
  {
   "cell_type": "code",
   "execution_count": 61,
   "id": "f742c9b8-5910-445c-ac4c-e20dc483f5cc",
   "metadata": {},
   "outputs": [
    {
     "name": "stdout",
     "output_type": "stream",
     "text": [
      "3\n"
     ]
    }
   ],
   "source": [
    "#index-we need to pass the value inside the index and gives the index of particular value(index(value))\n",
    "l1=[1,2,3,34,4,6,6,1]\n",
    "a=l1.index(34)\n",
    "print(a)\n"
   ]
  },
  {
   "cell_type": "code",
   "execution_count": 62,
   "id": "4fcc46a0-d738-4ff5-a655-0ea8ab95466d",
   "metadata": {},
   "outputs": [
    {
     "ename": "ValueError",
     "evalue": "1000 is not in list",
     "output_type": "error",
     "traceback": [
      "\u001b[31m---------------------------------------------------------------------------\u001b[39m",
      "\u001b[31mValueError\u001b[39m                                Traceback (most recent call last)",
      "\u001b[36mCell\u001b[39m\u001b[36m \u001b[39m\u001b[32mIn[62]\u001b[39m\u001b[32m, line 2\u001b[39m\n\u001b[32m      1\u001b[39m l1=[\u001b[32m1\u001b[39m,\u001b[32m2\u001b[39m,\u001b[32m3\u001b[39m,\u001b[32m34\u001b[39m,\u001b[32m4\u001b[39m,\u001b[32m6\u001b[39m,\u001b[32m6\u001b[39m,\u001b[32m1\u001b[39m]\n\u001b[32m----> \u001b[39m\u001b[32m2\u001b[39m a=\u001b[43ml1\u001b[49m\u001b[43m.\u001b[49m\u001b[43mindex\u001b[49m\u001b[43m(\u001b[49m\u001b[32;43m1000\u001b[39;49m\u001b[43m)\u001b[49m\n\u001b[32m      3\u001b[39m \u001b[38;5;28mprint\u001b[39m(a)\n",
      "\u001b[31mValueError\u001b[39m: 1000 is not in list"
     ]
    }
   ],
   "source": [
    "l1=[1,2,3,34,4,6,6,1]\n",
    "a=l1.index(1000)\n",
    "print(a)"
   ]
  },
  {
   "cell_type": "markdown",
   "id": "ecceb123-8aba-450e-acfb-d12acde0d6ba",
   "metadata": {},
   "source": [
    "##nested list-list inside the list"
   ]
  },
  {
   "cell_type": "code",
   "execution_count": 65,
   "id": "5890cb67-48ef-4745-9494-d4860913d044",
   "metadata": {},
   "outputs": [
    {
     "name": "stdout",
     "output_type": "stream",
     "text": [
      "5\n"
     ]
    }
   ],
   "source": [
    "l1=[1,2,3,[4,5,6,7,8],9]\n",
    "print(len(l1))"
   ]
  },
  {
   "cell_type": "code",
   "execution_count": 69,
   "id": "2ddeda6b-977c-47d3-9f7f-591a66732052",
   "metadata": {},
   "outputs": [
    {
     "data": {
      "text/plain": [
       "3"
      ]
     },
     "execution_count": 69,
     "metadata": {},
     "output_type": "execute_result"
    }
   ],
   "source": [
    "l1.index([4,5,6,7,8])"
   ]
  },
  {
   "cell_type": "code",
   "execution_count": null,
   "id": "e1a5938d-3619-494c-bc8c-2d993746838d",
   "metadata": {},
   "outputs": [],
   "source": []
  }
 ],
 "metadata": {
  "kernelspec": {
   "display_name": "Python 3 (ipykernel)",
   "language": "python",
   "name": "python3"
  },
  "language_info": {
   "codemirror_mode": {
    "name": "ipython",
    "version": 3
   },
   "file_extension": ".py",
   "mimetype": "text/x-python",
   "name": "python",
   "nbconvert_exporter": "python",
   "pygments_lexer": "ipython3",
   "version": "3.13.5"
  }
 },
 "nbformat": 4,
 "nbformat_minor": 5
}

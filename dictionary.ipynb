{
 "cells": [
  {
   "cell_type": "markdown",
   "id": "4976c370",
   "metadata": {},
   "source": [
    "## Dictionary\n",
    "\n",
    "-dictionary is unordered collectiobn of key value pairs\n",
    "-{keys:value}\n",
    "-in dictionary keys are unique and values allows the duplicates\n",
    "-dictionary defined with {}\n",
    "-it is non index based\n",
    "-values accessed with keys\n"
   ]
  },
  {
   "cell_type": "code",
   "execution_count": 9,
   "id": "9fd12f64",
   "metadata": {},
   "outputs": [
    {
     "name": "stdout",
     "output_type": "stream",
     "text": [
      "teju 21\n",
      "[1, 2]\n"
     ]
    }
   ],
   "source": [
    "#accessing the elements with keys\n",
    "d={\"name\":\"teju\",1:2,\"age\":21,4:5,2:4,5:[1,2]}\n",
    "print(d[\"name\"],d[\"age\"])\n",
    "print(d[5])"
   ]
  },
  {
   "cell_type": "code",
   "execution_count": 11,
   "id": "ee5c1544",
   "metadata": {},
   "outputs": [
    {
     "name": "stdout",
     "output_type": "stream",
     "text": [
      "{}\n",
      "{}\n"
     ]
    }
   ],
   "source": [
    "d={}\n",
    "d1=dict()\n",
    "print(d)\n",
    "print(d1)"
   ]
  },
  {
   "cell_type": "code",
   "execution_count": null,
   "id": "ae7a3a7c",
   "metadata": {},
   "outputs": [],
   "source": [
    "d=dict(map(str,input().split()))"
   ]
  },
  {
   "cell_type": "code",
   "execution_count": null,
   "id": "ca8b907c",
   "metadata": {},
   "outputs": [],
   "source": []
  }
 ],
 "metadata": {
  "kernelspec": {
   "display_name": "Python 3",
   "language": "python",
   "name": "python3"
  },
  "language_info": {
   "codemirror_mode": {
    "name": "ipython",
    "version": 3
   },
   "file_extension": ".py",
   "mimetype": "text/x-python",
   "name": "python",
   "nbconvert_exporter": "python",
   "pygments_lexer": "ipython3",
   "version": "3.6.13"
  }
 },
 "nbformat": 4,
 "nbformat_minor": 5
}

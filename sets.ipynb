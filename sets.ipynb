{
 "cells": [
  {
   "cell_type": "markdown",
   "id": "cd8cfb2a-c48a-4cb2-8433-a11f927990d8",
   "metadata": {},
   "source": [
    "## sets\n",
    "-set is unordered collection of different data types\n",
    "-set is mutable\n",
    "-defined with {}\n",
    "-non index based\n",
    "-does not contain duplicate values and hashable value(checks for position of values in set)\n",
    "unhashable types cannot be added to set\n",
    "\n"
   ]
  },
  {
   "cell_type": "code",
   "execution_count": 17,
   "id": "58b1759b-abdb-4a14-af44-586e4d758a09",
   "metadata": {},
   "outputs": [
    {
     "name": "stdout",
     "output_type": "stream",
     "text": [
      "{1, 4, 13, 22}\n"
     ]
    }
   ],
   "source": [
    "s1={1,22,13,4}\n",
    "print(s1)"
   ]
  },
  {
   "cell_type": "code",
   "execution_count": 13,
   "id": "08d19444-6458-49a7-a017-88f5196714c6",
   "metadata": {},
   "outputs": [
    {
     "name": "stdout",
     "output_type": "stream",
     "text": [
      "{1, 2, 3, 4, 30}\n"
     ]
    }
   ],
   "source": [
    "#adding the element into set\n",
    "s={1,2,3,4}\n",
    "s.add(30)\n",
    "print(s)"
   ]
  },
  {
   "cell_type": "code",
   "execution_count": 7,
   "id": "2427ba8d-a383-4a65-9876-18fcf868634a",
   "metadata": {},
   "outputs": [
    {
     "name": "stdout",
     "output_type": "stream",
     "text": [
      "<class 'dict'>\n",
      "<class 'set'>\n"
     ]
    }
   ],
   "source": [
    "#creating empty set\n",
    "s1={}\n",
    "s2=set()\n",
    "print(type(s1))\n",
    "print(type(s2))"
   ]
  },
  {
   "cell_type": "code",
   "execution_count": 9,
   "id": "9e28532f-3c2f-4833-aca4-2085ea4ffdca",
   "metadata": {},
   "outputs": [
    {
     "ename": "TypeError",
     "evalue": "'set' object is not subscriptable",
     "output_type": "error",
     "traceback": [
      "\u001b[31m---------------------------------------------------------------------------\u001b[39m",
      "\u001b[31mTypeError\u001b[39m                                 Traceback (most recent call last)",
      "\u001b[36mCell\u001b[39m\u001b[36m \u001b[39m\u001b[32mIn[9]\u001b[39m\u001b[32m, line 3\u001b[39m\n\u001b[32m      1\u001b[39m \u001b[38;5;66;03m#not index based\u001b[39;00m\n\u001b[32m      2\u001b[39m s={\u001b[32m1\u001b[39m,\u001b[32m2\u001b[39m,\u001b[32m3\u001b[39m,\u001b[33m\"\u001b[39m\u001b[33mteju\u001b[39m\u001b[33m\"\u001b[39m,\u001b[32m21\u001b[39m,\u001b[33m'\u001b[39m\u001b[33mcodegnan\u001b[39m\u001b[33m'\u001b[39m}\n\u001b[32m----> \u001b[39m\u001b[32m3\u001b[39m \u001b[43ms\u001b[49m\u001b[43m[\u001b[49m\u001b[32;43m0\u001b[39;49m\u001b[43m]\u001b[49m\n",
      "\u001b[31mTypeError\u001b[39m: 'set' object is not subscriptable"
     ]
    }
   ],
   "source": [
    "#not index based\n",
    "s={1,2,3,\"teju\",21,'codegnan'}\n",
    "s[0]\n"
   ]
  },
  {
   "cell_type": "code",
   "execution_count": 10,
   "id": "ec3a25dd-9275-4fae-a6dd-6377cc80d1d6",
   "metadata": {},
   "outputs": [
    {
     "name": "stdout",
     "output_type": "stream",
     "text": [
      "{1, 2, 3, 4, 5}\n"
     ]
    }
   ],
   "source": [
    "# set allow unique values\n",
    "s={1,2,3,4,5,3,2,1}\n",
    "print(s)"
   ]
  },
  {
   "cell_type": "code",
   "execution_count": 18,
   "id": "1aa6912a-1f91-4b06-8b1c-43dbfcf5d1ad",
   "metadata": {},
   "outputs": [
    {
     "name": "stdin",
     "output_type": "stream",
     "text": [
      " 1 2 3 3 4 5 5\n"
     ]
    },
    {
     "name": "stdout",
     "output_type": "stream",
     "text": [
      "{1, 2, 3, 4, 5}\n"
     ]
    }
   ],
   "source": [
    "#set of integers from user\n",
    "set_cr=set(map(int,input().split()))\n",
    "print(set_cr)"
   ]
  },
  {
   "cell_type": "code",
   "execution_count": 21,
   "id": "ed11a247-f578-4eee-b932-886f1ab688e1",
   "metadata": {},
   "outputs": [
    {
     "name": "stdin",
     "output_type": "stream",
     "text": [
      " 1 2 3 3.3 \"teju\"\n"
     ]
    },
    {
     "ename": "TypeError",
     "evalue": "'type' object is not iterable",
     "output_type": "error",
     "traceback": [
      "\u001b[31m---------------------------------------------------------------------------\u001b[39m",
      "\u001b[31mTypeError\u001b[39m                                 Traceback (most recent call last)",
      "\u001b[36mCell\u001b[39m\u001b[36m \u001b[39m\u001b[32mIn[21]\u001b[39m\u001b[32m, line 1\u001b[39m\n\u001b[32m----> \u001b[39m\u001b[32m1\u001b[39m set_cr=\u001b[38;5;28mset\u001b[39m(\u001b[38;5;28;43mmap\u001b[39;49m\u001b[43m(\u001b[49m\u001b[38;5;28;43mfloat\u001b[39;49m\u001b[43m,\u001b[49m\u001b[38;5;28;43mstr\u001b[39;49m\u001b[43m,\u001b[49m\u001b[38;5;28;43minput\u001b[39;49m\u001b[43m(\u001b[49m\u001b[43m)\u001b[49m\u001b[43m.\u001b[49m\u001b[43msplit\u001b[49m\u001b[43m(\u001b[49m\u001b[43m)\u001b[49m\u001b[43m)\u001b[49m)\n\u001b[32m      2\u001b[39m set_cr\n",
      "\u001b[31mTypeError\u001b[39m: 'type' object is not iterable"
     ]
    }
   ],
   "source": [
    "set_cr=set(map(float,str,input().split()))\n",
    "set_cr"
   ]
  },
  {
   "cell_type": "markdown",
   "id": "46cb10d4-c0ba-43f4-bcb7-a2528a7839b4",
   "metadata": {},
   "source": [
    "# operations of set\n",
    "\n",
    "Union-combine the two sets without any common elements because set is unique\n",
    "Intersection-gives the common elements from both sets\n",
    "Difference-difference symbol(-) (a-b) or (b-a)\n",
    "Symmetic difference-elements from a and b but not from both(means no  intersection elements){(a union b)-(a intersection b)}\n",
    "Subset-set inside set(all set b elements are present in set a then    set b is subset of set a)\n",
    "Superset-if set b all elements are present in set a then set a is     superset of set b\n",
    "Disjoint set-there is no common elements between both sets then those sets are disjoint sets"
   ]
  },
  {
   "cell_type": "code",
   "execution_count": 17,
   "id": "36a66ee6-1588-4dbe-bbe0-7636a84403e4",
   "metadata": {},
   "outputs": [
    {
     "name": "stdout",
     "output_type": "stream",
     "text": [
      "{1, 2, 3, 4, 5, 6, 7, 8}\n"
     ]
    }
   ],
   "source": [
    "#union\n",
    "set1={1,2,3,4,4}\n",
    "set2={5,3,6,7,8,8}\n",
    "union=set1.union(set2)\n",
    "print(union)"
   ]
  },
  {
   "cell_type": "code",
   "execution_count": 18,
   "id": "492cc2c2-1186-4fe1-8e2b-c0b4b3bfec41",
   "metadata": {},
   "outputs": [
    {
     "name": "stdout",
     "output_type": "stream",
     "text": [
      "{3}\n"
     ]
    }
   ],
   "source": [
    "#intersection\n",
    "intersection=set1.intersection(set2)\n",
    "print(intersection)"
   ]
  },
  {
   "cell_type": "code",
   "execution_count": 19,
   "id": "334ff662-8d9d-495c-a786-a8fa693a264f",
   "metadata": {},
   "outputs": [
    {
     "name": "stdout",
     "output_type": "stream",
     "text": [
      "{1, 2, 4}\n"
     ]
    }
   ],
   "source": [
    "#difference\n",
    "difference=set1.difference(set2)\n",
    "print(difference)"
   ]
  },
  {
   "cell_type": "code",
   "execution_count": 26,
   "id": "8d148c42-9a73-4131-bc74-e4eaf898679d",
   "metadata": {},
   "outputs": [
    {
     "name": "stdout",
     "output_type": "stream",
     "text": [
      "{1, 2, 4, 5, 6, 7, 8}\n"
     ]
    }
   ],
   "source": [
    "#symmetric difference\n",
    "symmentic_diff=set1.symmetric_difference(set2)\n",
    "print(symmentic_diff)"
   ]
  },
  {
   "cell_type": "code",
   "execution_count": 27,
   "id": "55ecff13-8b80-4d48-9e3f-dd08ebf79163",
   "metadata": {},
   "outputs": [
    {
     "name": "stdout",
     "output_type": "stream",
     "text": [
      "False\n"
     ]
    }
   ],
   "source": [
    "#issubset\n",
    "subset=set1.issubset(set2)\n",
    "print(subset)"
   ]
  },
  {
   "cell_type": "code",
   "execution_count": 28,
   "id": "c7601555-d985-46ef-9f1b-b5a51ed0d3a7",
   "metadata": {},
   "outputs": [
    {
     "name": "stdout",
     "output_type": "stream",
     "text": [
      "False\n"
     ]
    }
   ],
   "source": [
    "#issuperset\n",
    "superset=set1.issuperset(set2)\n",
    "print(superset)"
   ]
  },
  {
   "cell_type": "code",
   "execution_count": 29,
   "id": "4047629d-3fcf-44bc-8273-3f3a2e006bf8",
   "metadata": {},
   "outputs": [
    {
     "name": "stdout",
     "output_type": "stream",
     "text": [
      "False\n"
     ]
    }
   ],
   "source": [
    "#disjoint\n",
    "disjoint=set1.isdisjoint(set2)\n",
    "print(disjoint)"
   ]
  },
  {
   "cell_type": "markdown",
   "id": "7eb26932-bb35-4d56-b2a6-dfae6ad76a74",
   "metadata": {},
   "source": [
    "set methods\n",
    "add(element):add an element into set\n",
    "update(iterable): adds multiple elements to set at a time\n",
    "remove(elements):removes a particular elemeent\n",
    "discard(element):remove an element from set\n",
    "pop(element):removes a random element from set\n",
    "clear():removes all elements from set and gives empty set"
   ]
  },
  {
   "cell_type": "code",
   "execution_count": 2,
   "id": "7c72ed44-cd9b-4ac6-8351-9164881ce16c",
   "metadata": {},
   "outputs": [
    {
     "name": "stdout",
     "output_type": "stream",
     "text": [
      "{1, 2, 3, 4, 5}\n"
     ]
    }
   ],
   "source": [
    "# add\n",
    "set1={1,2,3,4}\n",
    "set1.add(5)\n",
    "print(set1)"
   ]
  },
  {
   "cell_type": "code",
   "execution_count": 3,
   "id": "20b959b7-9b07-44a8-992b-21d2f40c10cd",
   "metadata": {},
   "outputs": [
    {
     "name": "stdout",
     "output_type": "stream",
     "text": [
      "{1, 2, 3, 4, 5, 7, 8, 9}\n"
     ]
    }
   ],
   "source": [
    "#update\n",
    "set1.update([7,8,9])\n",
    "print(set1)"
   ]
  },
  {
   "cell_type": "code",
   "execution_count": 4,
   "id": "b371f3a1-521f-46c7-a18a-1a519b678ebc",
   "metadata": {},
   "outputs": [
    {
     "name": "stdout",
     "output_type": "stream",
     "text": [
      "{1, 2, 3, 4, 5, 7, 8}\n"
     ]
    }
   ],
   "source": [
    "#remove\n",
    "set1.remove(9)\n",
    "print(set1)"
   ]
  },
  {
   "cell_type": "code",
   "execution_count": 6,
   "id": "ca7b27d8-84fc-4f79-a138-b68803e19dab",
   "metadata": {},
   "outputs": [
    {
     "name": "stdout",
     "output_type": "stream",
     "text": [
      "{1, 2, 3, 4, 5, 8}\n"
     ]
    }
   ],
   "source": [
    "#discard\n",
    "set1.discard(7)\n",
    "print(set1)"
   ]
  },
  {
   "cell_type": "code",
   "execution_count": 7,
   "id": "13e43082-b05c-4c0b-8160-e90f25138756",
   "metadata": {},
   "outputs": [
    {
     "name": "stdout",
     "output_type": "stream",
     "text": [
      "{2, 3, 4, 5, 8}\n"
     ]
    }
   ],
   "source": [
    "#pop\n",
    "set1.pop()\n",
    "print(set1)"
   ]
  },
  {
   "cell_type": "code",
   "execution_count": 8,
   "id": "dd818d52-f95a-4fab-a830-c51b5a8734a2",
   "metadata": {},
   "outputs": [
    {
     "name": "stdout",
     "output_type": "stream",
     "text": [
      "set()\n"
     ]
    }
   ],
   "source": [
    "#clear\n",
    "set1.clear()\n",
    "print(set1)"
   ]
  },
  {
   "cell_type": "code",
   "execution_count": 9,
   "id": "67251340-7e07-49f6-992f-b84b65be6e7e",
   "metadata": {},
   "outputs": [
    {
     "name": "stdout",
     "output_type": "stream",
     "text": [
      "hello world\n"
     ]
    }
   ],
   "source": [
    "print(\"hello world\")"
   ]
  },
  {
   "cell_type": "code",
   "execution_count": 10,
   "id": "83548cb5-650c-4878-879c-10e93ffc0183",
   "metadata": {},
   "outputs": [
    {
     "name": "stdout",
     "output_type": "stream",
     "text": [
      "{10, 20, 30}\n"
     ]
    }
   ],
   "source": [
    "s=set()\n",
    "s.update([10,20,30])\n",
    "print(s)"
   ]
  },
  {
   "cell_type": "code",
   "execution_count": 11,
   "id": "7fcb0aac-9f06-4eaa-9ae0-4aa7eb030ba4",
   "metadata": {},
   "outputs": [
    {
     "data": {
      "text/plain": [
       "10"
      ]
     },
     "execution_count": 11,
     "metadata": {},
     "output_type": "execute_result"
    }
   ],
   "source": [
    "s.pop()"
   ]
  },
  {
   "cell_type": "code",
   "execution_count": 12,
   "id": "3d89c2e0-79eb-4044-b819-40e1234633a6",
   "metadata": {},
   "outputs": [
    {
     "name": "stdout",
     "output_type": "stream",
     "text": [
      "{20, 30}\n"
     ]
    }
   ],
   "source": [
    "print(s)"
   ]
  },
  {
   "cell_type": "code",
   "execution_count": 30,
   "id": "7fa942f3-b46a-4d88-9409-9ee193772225",
   "metadata": {},
   "outputs": [
    {
     "name": "stdout",
     "output_type": "stream",
     "text": [
      "Hello Python\n"
     ]
    }
   ],
   "source": [
    "#write a python program to print \"hello python\"\n",
    "print(\"Hello Python\")"
   ]
  },
  {
   "cell_type": "code",
   "execution_count": 38,
   "id": "09c771d6-ec7c-4d77-b556-61863e221aa2",
   "metadata": {},
   "outputs": [
    {
     "name": "stdin",
     "output_type": "stream",
     "text": [
      " 2 \n",
      " 3\n"
     ]
    },
    {
     "name": "stdout",
     "output_type": "stream",
     "text": [
      "5\n",
      "2\n"
     ]
    }
   ],
   "source": [
    "#Write a python program to do arithemetic operation addition and division\n",
    "a=int(input())\n",
    "b=int(input())\n",
    "print(a+b)\n",
    "print(a%b)"
   ]
  },
  {
   "cell_type": "code",
   "execution_count": 41,
   "id": "3ef2c31e-2f24-4ae1-a156-36f84e67e5e0",
   "metadata": {},
   "outputs": [
    {
     "name": "stdin",
     "output_type": "stream",
     "text": [
      " 2\n",
      " 3\n"
     ]
    },
    {
     "name": "stdout",
     "output_type": "stream",
     "text": [
      "3.0\n"
     ]
    }
   ],
   "source": [
    "#find the area of traingle\n",
    "base=int(input())\n",
    "height=int(input())\n",
    "area_of_triangle=1/2*base*height\n",
    "print(area_of_triangle)"
   ]
  },
  {
   "cell_type": "code",
   "execution_count": 40,
   "id": "a9088258-0464-4bf7-acda-de94c3e18f07",
   "metadata": {},
   "outputs": [
    {
     "name": "stdin",
     "output_type": "stream",
     "text": [
      " 2\n",
      " 3\n"
     ]
    },
    {
     "name": "stdout",
     "output_type": "stream",
     "text": [
      "before swapping :  2 3\n",
      "after swapping : 3 2\n"
     ]
    }
   ],
   "source": [
    "#swapping of two variables\n",
    "a=int(input())\n",
    "b=int(input())\n",
    "print(\"before swapping : \", a,b)\n",
    "print(\"after swapping :\", b,a)"
   ]
  },
  {
   "cell_type": "code",
   "execution_count": 42,
   "id": "85af6e90-5d57-42ee-9973-c982c6ad4bdb",
   "metadata": {},
   "outputs": [
    {
     "name": "stdin",
     "output_type": "stream",
     "text": [
      " 2\n",
      " 3\n"
     ]
    },
    {
     "name": "stdout",
     "output_type": "stream",
     "text": [
      "3 2\n"
     ]
    }
   ],
   "source": [
    "#swap of two numbers using airthemetic operators\n",
    "a=int(input())\n",
    "b=int(input())\n",
    "a=a-b\n",
    "b=a+b\n",
    "a=b-a\n",
    "print(a,b)"
   ]
  },
  {
   "cell_type": "code",
   "execution_count": null,
   "id": "3f24caad-b2e4-49e2-8cfa-549765cfc484",
   "metadata": {},
   "outputs": [],
   "source": [
    "a=int(input())\n",
    "b=int(input())\n",
    "a=a^b\n"
   ]
  }
 ],
 "metadata": {
  "kernelspec": {
   "display_name": "Python 3 (ipykernel)",
   "language": "python",
   "name": "python3"
  },
  "language_info": {
   "codemirror_mode": {
    "name": "ipython",
    "version": 3
   },
   "file_extension": ".py",
   "mimetype": "text/x-python",
   "name": "python",
   "nbconvert_exporter": "python",
   "pygments_lexer": "ipython3",
   "version": "3.13.5"
  }
 },
 "nbformat": 4,
 "nbformat_minor": 5
}

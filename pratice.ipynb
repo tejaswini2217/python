{
 "cells": [
  {
   "cell_type": "code",
   "execution_count": 1,
   "id": "320bc76e-837e-4a67-8ef9-731e09795b2c",
   "metadata": {},
   "outputs": [
    {
     "name": "stdin",
     "output_type": "stream",
     "text": [
      " 2\n"
     ]
    },
    {
     "name": "stdout",
     "output_type": "stream",
     "text": [
      "The number is 2 so, it is Positive number\n"
     ]
    }
   ],
   "source": [
    "# checking the number is positive or negative\n",
    "num=int(input())\n",
    "if num>=0:\n",
    "    print(f\"The number is {num} so, it is Positive number\")\n",
    "else:\n",
    "    print(f\"The number is {num} so,it is Not positive\")"
   ]
  },
  {
   "cell_type": "code",
   "execution_count": 2,
   "id": "3c5b945b-db00-42e0-9955-e9f029e87fcd",
   "metadata": {},
   "outputs": [
    {
     "name": "stdin",
     "output_type": "stream",
     "text": [
      " 2100\n"
     ]
    },
    {
     "name": "stdout",
     "output_type": "stream",
     "text": [
      "year is 2100 so ,Not a leap year\n"
     ]
    }
   ],
   "source": [
    "#finding an year that is leap year or not\n",
    "num=int(input())\n",
    "if num%4==0 and num%100!=0:\n",
    "    print(f\"year is {num} so, it is not a leap year\")\n",
    "elif num % 4==0 and num %400==0:\n",
    "    print(f\"year is {num} so, it is leap year\")\n",
    "else:\n",
    "    print(f\"year is {num} so ,Not a leap year\")\n",
    "          "
   ]
  },
  {
   "cell_type": "code",
   "execution_count": 3,
   "id": "bfc9855d-ee7d-429f-b814-d4a259d88e9a",
   "metadata": {},
   "outputs": [
    {
     "name": "stdin",
     "output_type": "stream",
     "text": [
      " 5\n"
     ]
    },
    {
     "name": "stdout",
     "output_type": "stream",
     "text": [
      "it  is odd number\n"
     ]
    }
   ],
   "source": [
    "#finding a number that is even or odd\n",
    "num=int(input())\n",
    "if num %2==0:\n",
    "    print(\"its is even number\")\n",
    "else:\n",
    "    print(\"it  is odd number\")"
   ]
  },
  {
   "cell_type": "code",
   "execution_count": 4,
   "id": "a51d639e-d120-4ed5-bbfb-1c0b9b1672e7",
   "metadata": {},
   "outputs": [
    {
     "name": "stdin",
     "output_type": "stream",
     "text": [
      " 4\n",
      " 5\n"
     ]
    },
    {
     "name": "stdout",
     "output_type": "stream",
     "text": [
      "num1 if greater\n"
     ]
    }
   ],
   "source": [
    "# finding the greater of two numbers\n",
    "num=int(input())\n",
    "num1=int(input())\n",
    "if num>num1:\n",
    "    print(\"num is greater\")\n",
    "else:\n",
    "    print(\"num1 if greater\")"
   ]
  },
  {
   "cell_type": "code",
   "execution_count": 5,
   "id": "c78cdb38-a4d3-4c4b-97f7-ea489f8e1257",
   "metadata": {},
   "outputs": [
    {
     "name": "stdin",
     "output_type": "stream",
     "text": [
      " 3\n",
      " 4\n",
      " 2\n"
     ]
    },
    {
     "name": "stdout",
     "output_type": "stream",
     "text": [
      "num1 is greater\n"
     ]
    }
   ],
   "source": [
    "# finding the largest among three numbers\n",
    "num=int(input())\n",
    "num1=int(input())\n",
    "num2=int(input())\n",
    "if num>num1:\n",
    "    print(\"num is greater\")\n",
    "elif num1>num2:\n",
    "    print(\"num1 is greater\")\n",
    "else:\n",
    "    print(\"num2 is greater\")\n"
   ]
  },
  {
   "cell_type": "code",
   "execution_count": 9,
   "id": "ee2a1ae9-e18b-4903-b6c5-714ecc7d4787",
   "metadata": {},
   "outputs": [
    {
     "name": "stdin",
     "output_type": "stream",
     "text": [
      " 23\n"
     ]
    },
    {
     "name": "stdout",
     "output_type": "stream",
     "text": [
      "both are not divisible\n"
     ]
    }
   ],
   "source": [
    "# checking wheather 5 and 11 are divisible or not\n",
    "num1=int(input())\n",
    "if num1 % 5==0:\n",
    "    print(\"the number is  divisible by 5\")\n",
    "elif num1 % 11 ==0:\n",
    "     print(\"the number is  divisible by 11\")\n",
    "else:\n",
    "    print(\"both are not divisible\")\n",
    "    "
   ]
  },
  {
   "cell_type": "code",
   "execution_count": 15,
   "id": "7f784e2f-7fe8-4330-bb36-cb8601ab654c",
   "metadata": {},
   "outputs": [
    {
     "name": "stdin",
     "output_type": "stream",
     "text": [
      " abhi\n"
     ]
    },
    {
     "name": "stdout",
     "output_type": "stream",
     "text": [
      "it is vowel\n"
     ]
    }
   ],
   "source": [
    "# checking wheather a character is vowel or consonant\n",
    "character=input()\n",
    "vowels=['a','e','i','o','u','A','E','I','O','U']\n",
    "if character[0]  in vowels:\n",
    "    print(\"it is vowel\")\n",
    "else:\n",
    "    print(\"it is consonant\")\n",
    "\n"
   ]
  },
  {
   "cell_type": "code",
   "execution_count": 17,
   "id": "ce9fe6aa-96f4-45ea-bd4d-256d71f5b230",
   "metadata": {},
   "outputs": [
    {
     "name": "stdin",
     "output_type": "stream",
     "text": [
      " 4\n"
     ]
    },
    {
     "name": "stdout",
     "output_type": "stream",
     "text": [
      "both are not divisible\n"
     ]
    }
   ],
   "source": [
    "# checking wheather 5 and 11 are divisible or not\n",
    "num1=int(input())\n",
    "if num1 % 3==0:\n",
    "    print(\"the number is  divisible by 5\")\n",
    "elif num1 % 7 ==0:\n",
    "     print(\"the number is  divisible by 11\")\n",
    "else:\n",
    "    print(\"both are not divisible\")"
   ]
  },
  {
   "cell_type": "code",
   "execution_count": 20,
   "id": "5e7a1ff4-c672-48f9-b7ac-deb6c0b9493c",
   "metadata": {},
   "outputs": [
    {
     "name": "stdin",
     "output_type": "stream",
     "text": [
      " E\n"
     ]
    },
    {
     "name": "stdout",
     "output_type": "stream",
     "text": [
      "it is upper case\n"
     ]
    }
   ],
   "source": [
    "#checking wheather the input is lowercase,uppercase,digit\n",
    "input1=input()\n",
    "if input1.islower():\n",
    "    print(\"it is lower case\")\n",
    "elif input1.isupper():\n",
    "    print(\"it is upper case\")\n",
    "else:\n",
    "    print(\"it is digit\")"
   ]
  }
 ],
 "metadata": {
  "kernelspec": {
   "display_name": "Python 3 (ipykernel)",
   "language": "python",
   "name": "python3"
  },
  "language_info": {
   "codemirror_mode": {
    "name": "ipython",
    "version": 3
   },
   "file_extension": ".py",
   "mimetype": "text/x-python",
   "name": "python",
   "nbconvert_exporter": "python",
   "pygments_lexer": "ipython3",
   "version": "3.13.5"
  }
 },
 "nbformat": 4,
 "nbformat_minor": 5
}
